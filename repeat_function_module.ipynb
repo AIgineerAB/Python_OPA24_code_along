{
 "cells": [
  {
   "cell_type": "markdown",
   "metadata": {},
   "source": [
    "# Repeat session - 27 Feb"
   ]
  },
  {
   "cell_type": "markdown",
   "metadata": {},
   "source": [
    "## What is a module?\n",
    "- jupyter notebook .ipynb is good for documentation or demo purpose\n",
    "- primary python script .py is used mostly at work, and we can separate codes into, for example:\n",
    "  - utility.py for keeping functions, classes and other objects that other main.py can use \n",
    "  - main.py for executing codes and producing results\n",
    "  - the action to divding codes into different .py is called to modularize codes \n",
    "  - module is not the action, but instead, utility.py and similar scripts that is used by the main.py is called modules \n"
   ]
  },
  {
   "cell_type": "markdown",
   "metadata": {},
   "source": [
    "## Library, module, package?\n",
    "- we need to learn how to create module in this course\n",
    "- in this course, we can use the term library/package interchangely \n",
    "- simply, remember now that libary/package is a collection of modules that works together because they are more complicated than one single module/.py\n",
    "- what we need to understand now is how to install and import external library\n",
    "  - for matplotlib library, we can choose to import just one module, matplotlib.pyplot as plt"
   ]
  },
  {
   "cell_type": "markdown",
   "metadata": {},
   "source": [
    "## Practice creating module and using a function from it\n",
    "- refer to utility.py in this repo for creating a module"
   ]
  },
  {
   "cell_type": "code",
   "execution_count": 1,
   "metadata": {},
   "outputs": [],
   "source": [
    "#use the function in a separte .py/module\n",
    "import utility\n"
   ]
  },
  {
   "cell_type": "code",
   "execution_count": 2,
   "metadata": {},
   "outputs": [
    {
     "name": "stdout",
     "output_type": "stream",
     "text": [
      "4\n"
     ]
    }
   ],
   "source": [
    "#call for a function with callable syntax ()\n",
    "#here we execute the function, but in the module, we define the function\n",
    "new_number = utility.add_numbers(1,3)\n",
    "print(new_number)"
   ]
  },
  {
   "cell_type": "markdown",
   "metadata": {},
   "source": [
    "## Practicing creating module and using a method from it"
   ]
  },
  {
   "cell_type": "code",
   "execution_count": null,
   "metadata": {},
   "outputs": [],
   "source": [
    "#initiate an object from the module\n",
    "person1 = utility.Person(\"Debbie\")\n"
   ]
  },
  {
   "cell_type": "code",
   "execution_count": 6,
   "metadata": {},
   "outputs": [
    {
     "data": {
      "text/plain": [
       "utility.Person"
      ]
     },
     "execution_count": 6,
     "metadata": {},
     "output_type": "execute_result"
    }
   ],
   "source": [
    "type(person1)"
   ]
  },
  {
   "cell_type": "code",
   "execution_count": 7,
   "metadata": {},
   "outputs": [
    {
     "data": {
      "text/plain": [
       "'Debbie'"
      ]
     },
     "execution_count": 7,
     "metadata": {},
     "output_type": "execute_result"
    }
   ],
   "source": [
    "#access the attribute for the object which is defined in the module .py\n",
    "person1.name"
   ]
  },
  {
   "cell_type": "code",
   "execution_count": 8,
   "metadata": {},
   "outputs": [
    {
     "ename": "AttributeError",
     "evalue": "'Person' object has no attribute 'age'",
     "output_type": "error",
     "traceback": [
      "\u001b[0;31m---------------------------------------------------------------------------\u001b[0m",
      "\u001b[0;31mAttributeError\u001b[0m                            Traceback (most recent call last)",
      "Cell \u001b[0;32mIn[8], line 2\u001b[0m\n\u001b[1;32m      1\u001b[0m \u001b[38;5;66;03m#if you try to access an attribute that does not exist\u001b[39;00m\n\u001b[0;32m----> 2\u001b[0m \u001b[43mperson1\u001b[49m\u001b[38;5;241;43m.\u001b[39;49m\u001b[43mage\u001b[49m\n",
      "\u001b[0;31mAttributeError\u001b[0m: 'Person' object has no attribute 'age'"
     ]
    }
   ],
   "source": [
    "#if you try to access an attribute that does not exist\n",
    "person1.age"
   ]
  },
  {
   "cell_type": "code",
   "execution_count": null,
   "metadata": {},
   "outputs": [
    {
     "name": "stdout",
     "output_type": "stream",
     "text": [
      "Hi, my name is Johan\n"
     ]
    }
   ],
   "source": [
    "#call for the method --> compare this with df.head()\n",
    "\n",
    "#step 1: instantiate an object from a class defined in the module\n",
    "person2 = utility.Person(\"Johan\")\n",
    "\n",
    "#step 2: call for the method available for the object (the method bounded to the class)\n",
    "person2.greet()\n",
    "\n",
    "\n"
   ]
  }
 ],
 "metadata": {
  "kernelspec": {
   "display_name": ".venv",
   "language": "python",
   "name": "python3"
  },
  "language_info": {
   "codemirror_mode": {
    "name": "ipython",
    "version": 3
   },
   "file_extension": ".py",
   "mimetype": "text/x-python",
   "name": "python",
   "nbconvert_exporter": "python",
   "pygments_lexer": "ipython3",
   "version": "3.12.6"
  }
 },
 "nbformat": 4,
 "nbformat_minor": 2
}
